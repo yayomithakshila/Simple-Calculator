{
 "cells": [
  {
   "cell_type": "code",
   "execution_count": 1,
   "id": "6d45af97",
   "metadata": {},
   "outputs": [
    {
     "name": "stdout",
     "output_type": "stream",
     "text": [
      "Enter the operator(+,-,*,/):+\n",
      "Enter 1st number:99\n",
      "Enter 2nd number:67\n",
      "Answer: 166\n"
     ]
    }
   ],
   "source": [
    "operator= input(\"Enter the operator(+,-,*,/):\")\n",
    "num1=int(input(\"Enter 1st number:\"))\n",
    "num2=int(input(\"Enter 2nd number:\"))\n",
    "\n",
    "if operator == \"+\":\n",
    "    result=num1+num2\n",
    "elif operator == \"-\":\n",
    "    result=num1-num2\n",
    "elif operator == \"*\":\n",
    "    result=num1*num2\n",
    "elif operator == \"/\":\n",
    "    result=num1/num2\n",
    "\n",
    "print(\"Answer:\",result)"
   ]
  },
  {
   "cell_type": "code",
   "execution_count": null,
   "id": "8d32d8a9",
   "metadata": {},
   "outputs": [],
   "source": []
  }
 ],
 "metadata": {
  "kernelspec": {
   "display_name": "Python 3 (ipykernel)",
   "language": "python",
   "name": "python3"
  },
  "language_info": {
   "codemirror_mode": {
    "name": "ipython",
    "version": 3
   },
   "file_extension": ".py",
   "mimetype": "text/x-python",
   "name": "python",
   "nbconvert_exporter": "python",
   "pygments_lexer": "ipython3",
   "version": "3.9.13"
  }
 },
 "nbformat": 4,
 "nbformat_minor": 5
}
